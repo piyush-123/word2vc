{
 "cells": [
  {
   "cell_type": "code",
   "execution_count": 24,
   "id": "75b78cf9",
   "metadata": {},
   "outputs": [],
   "source": [
    "import langchain"
   ]
  },
  {
   "cell_type": "code",
   "execution_count": 25,
   "id": "9d8b855a",
   "metadata": {},
   "outputs": [],
   "source": [
    "import os\n",
    "from dotenv import load_dotenv\n",
    "load_dotenv()\n",
    "HUGGINGFACE_TOKEN = os.getenv('HUGGINGFACE_TOKEN')\n",
    "GOOGLE_API_KEY = os.getenv('GOOGLE_API_KEY')\n",
    "#OPENAPI_KEY = os.getenv('OPENAPI_KEY')"
   ]
  },
  {
   "cell_type": "code",
   "execution_count": 26,
   "id": "ffff9a55",
   "metadata": {},
   "outputs": [],
   "source": [
    "import openai\n",
    "from langchain.llms import OpenAI\n",
    "#llm=OpenAI()\n",
    "#text=\"can you tell me about india\"\n",
    "#llm.predict(text)"
   ]
  },
  {
   "cell_type": "code",
   "execution_count": 37,
   "id": "35308d1c",
   "metadata": {},
   "outputs": [],
   "source": [
    "from langchain import HuggingFaceHub\n",
    "flan_llm = HuggingFaceHub(repo_id=\"google/flan-t5-large\",huggingfacehub_api_token=HUGGINGFACE_TOKEN)\n",
    "#mistral_llm = HuggingFaceHub(repo_id=\"mistralai/Mistral-7B-Instruct-v0.2\",huggingfacehub_api_token=HUGGINGFACE_TOKEN)\n",
    "#flan_llm.predict(\"please write a poem on india\")\n",
    "\n"
   ]
  },
  {
   "cell_type": "code",
   "execution_count": 49,
   "id": "ba513959",
   "metadata": {},
   "outputs": [
    {
     "data": {
      "text/plain": [
       "'New Delhi'"
      ]
     },
     "execution_count": 49,
     "metadata": {},
     "output_type": "execute_result"
    }
   ],
   "source": [
    "from langchain_google_genai import ChatGoogleGenerativeAI\n",
    "gemini_llm=ChatGoogleGenerativeAI(model='gemini-pro',google_api_key=GOOGLE_API_KEY)\n",
    "gemini_llm.predict(\"please write a poem on india\")\n",
    "gemini_llm.invoke(\"please tell me the capital of india\").content"
   ]
  }
 ],
 "metadata": {
  "kernelspec": {
   "display_name": "Python 3 (ipykernel)",
   "language": "python",
   "name": "python3"
  },
  "language_info": {
   "codemirror_mode": {
    "name": "ipython",
    "version": 3
   },
   "file_extension": ".py",
   "mimetype": "text/x-python",
   "name": "python",
   "nbconvert_exporter": "python",
   "pygments_lexer": "ipython3",
   "version": "3.9.19"
  }
 },
 "nbformat": 4,
 "nbformat_minor": 5
}
